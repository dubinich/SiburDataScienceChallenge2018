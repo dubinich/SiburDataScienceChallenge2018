{
 "cells": [
  {
   "cell_type": "code",
   "execution_count": 1,
   "metadata": {
    "collapsed": true
   },
   "outputs": [],
   "source": [
    "import pandas as pd\n",
    "import numpy as np\n",
    "import matplotlib.pyplot as plt\n",
    "%matplotlib inline\n",
    "from scipy.signal import cwt, find_peaks_cwt, ricker, welch\n",
    "from scipy.stats import linregress\n",
    "from sklearn.model_selection import TimeSeriesSplit, cross_val_score\n",
    "import lightgbm as lgb\n",
    "import gc\n",
    "\n",
    "pd.set_option('display.max_columns', 500)\n",
    "import warnings\n",
    "warnings.filterwarnings('ignore')"
   ]
  },
  {
   "cell_type": "code",
   "execution_count": 2,
   "metadata": {
    "collapsed": true
   },
   "outputs": [],
   "source": [
    "sensors = pd.read_csv('input/sensors.csv')"
   ]
  },
  {
   "cell_type": "code",
   "execution_count": 3,
   "metadata": {
    "collapsed": true
   },
   "outputs": [],
   "source": [
    "tags = pd.read_csv('input/tags.csv')"
   ]
  },
  {
   "cell_type": "code",
   "execution_count": 4,
   "metadata": {
    "collapsed": true
   },
   "outputs": [],
   "source": [
    "target_coke = pd.read_csv('input/coke_target.csv')"
   ]
  },
  {
   "cell_type": "code",
   "execution_count": 5,
   "metadata": {
    "collapsed": true
   },
   "outputs": [],
   "source": [
    "# функция для определения к какой установке относится фича\n",
    "def get_tool_group(x):\n",
    "    if 'Установка ректификации' in x:\n",
    "        return 'Установка ректификации'\n",
    "    elif 'Установка дегидрирования' in x:\n",
    "        return 'Установка дегидрирования'\n",
    "    elif 'Установка компримирования' in x:\n",
    "        return 'Установка компримирования'"
   ]
  },
  {
   "cell_type": "code",
   "execution_count": 6,
   "metadata": {
    "collapsed": true
   },
   "outputs": [],
   "source": [
    "#все расходы газа в кг/ч а тут кПа, это странно (расход в единицах давления?). заменим на кг/ч\n",
    "tags.loc[tags.feature=='f_16','units'] = 'кг/ч'"
   ]
  },
  {
   "cell_type": "code",
   "execution_count": 7,
   "metadata": {
    "collapsed": true
   },
   "outputs": [],
   "source": [
    "tags['tool_group'] = tags['description'].apply(get_tool_group)"
   ]
  },
  {
   "cell_type": "code",
   "execution_count": 8,
   "metadata": {
    "collapsed": true,
    "scrolled": true
   },
   "outputs": [],
   "source": [
    "# фичи почти целиком из пропусков, по ним не группируем\n",
    "tags = tags[~tags.feature.isin(['f0','f1','f2','f41','f42'])]"
   ]
  },
  {
   "cell_type": "code",
   "execution_count": 9,
   "metadata": {
    "collapsed": true
   },
   "outputs": [],
   "source": [
    "# получаем группы фичей по установке+единицам измерения\n",
    "tool_measure_groups = tags.groupby(['tool_group','units'])['feature'].apply(lambda x: ', '.join(x)).reset_index()"
   ]
  },
  {
   "cell_type": "code",
   "execution_count": 10,
   "metadata": {
    "collapsed": true
   },
   "outputs": [],
   "source": [
    "# считаем среднее значение по группам фич установка+единицы измерения\n",
    "for features in tool_measure_groups['feature']:\n",
    "    features_list = features.split(', ')\n",
    "    if len(features_list) > 1:\n",
    "        sensors[features+'_mean'] = sensors[features_list].mean(axis=1)"
   ]
  },
  {
   "cell_type": "code",
   "execution_count": 11,
   "metadata": {},
   "outputs": [
    {
     "name": "stdout",
     "output_type": "stream",
     "text": [
      "f_0 dropped because of NaNs (NaN share is: 0.9559975889089813)\n",
      "f_1 dropped because of NaNs (NaN share is: 0.9566003616636528)\n",
      "f_2 dropped because of NaNs (NaN share is: 0.956298975286317)\n",
      "f_36 dropped because of NaNs (NaN share is: 0.5853676913803496)\n",
      "f_37 dropped because of NaNs (NaN share is: 0.5853676913803496)\n",
      "f_38 dropped because of NaNs (NaN share is: 0.5852169981916817)\n",
      "f_39 dropped because of NaNs (NaN share is: 0.5846895720313442)\n",
      "f_40 dropped because of NaNs (NaN share is: 0.5747438215792646)\n",
      "f_41 dropped because of NaNs (NaN share is: 0.9613471971066908)\n",
      "f_42 dropped because of NaNs (NaN share is: 0.961045810729355)\n",
      "f_41, f_42_mean dropped because of NaNs (NaN share is: 0.9609704641350211)\n",
      "f_36, f_37, f_38, f_39_mean dropped because of NaNs (NaN share is: 0.5846142254370102)\n"
     ]
    }
   ],
   "source": [
    "# удаляем фичи в которых больше 50% пропущенных значений.\n",
    "for col in sensors.columns:\n",
    "    if (sensors[col].isnull().sum() / sensors.shape[0]) > 0.5:\n",
    "        #print(col + ' dropped because of NaNs (NaN share is: {})'.format(sensors[col].isnull().sum() / sensors.shape[0]))\n",
    "        sensors.drop(col, axis=1, inplace=True)"
   ]
  },
  {
   "cell_type": "code",
   "execution_count": 13,
   "metadata": {
    "collapsed": true
   },
   "outputs": [],
   "source": [
    "#делаем несколько групп фичей по \"смыслу\"\n",
    "# содержание компонентов в этане (в названии переменной есть опечатка)\n",
    "comp_in_metan_group = ['f_3','f_4','f_5', 'f_6']\n",
    "\n",
    "# расход этана\n",
    "etan_spend_group = ['f_8', 'f_9', 'f_10']\n",
    "\n",
    "# расход рециркулирующего газа\n",
    "gas_spend_group = ['f_11','f_12', 'f_13']\n",
    "\n",
    "# расход продувочного газа\n",
    "gas_spend_reactors_group = ['f_14', 'f_15', 'f_16', 'f_17', 'f_18',\n",
    "                            'f_19', 'f_22', 'f_23', 'f_24', 'f_26', 'f_27']\n",
    "\n",
    "# температуры потоков\n",
    "temp_group = ['f_20', 'f_28', 'f_30', 'f_31']\n",
    "\n",
    "# средние температуры\n",
    "avg_temp_group = ['f_21', 'f_25', 'f_29']\n",
    "\n",
    "# расход сернистого вещества\n",
    "S_spend = ['f_33', 'f_34', 'f_35']"
   ]
  },
  {
   "cell_type": "code",
   "execution_count": 14,
   "metadata": {
    "collapsed": true
   },
   "outputs": [],
   "source": [
    "feature_groups = [comp_in_metan_group,\n",
    "                  etan_spend_group,\n",
    "                  gas_spend_group,\n",
    "                  gas_spend_reactors_group,\n",
    "                  temp_group,\n",
    "                  avg_temp_group,\n",
    "                  S_spend]"
   ]
  },
  {
   "cell_type": "code",
   "execution_count": 15,
   "metadata": {
    "collapsed": true
   },
   "outputs": [],
   "source": [
    "# по каждой группе фичей считаем среднее, стандартное отклонение, размах и сумму\n",
    "for group_name in feature_groups:\n",
    "    sensors[str(group_name) + '_mean'] = sensors[group_name].mean(axis=1)\n",
    "    sensors[str(group_name) + '_std'] = sensors[group_name].std(axis=1)\n",
    "    sensors[str(group_name) + '_range'] = sensors[group_name].max(axis=1) - sensors[group_name].min(axis=1)\n",
    "    sensors[str(group_name) + '_sum'] = sensors[group_name].sum(axis=1)"
   ]
  },
  {
   "cell_type": "code",
   "execution_count": 16,
   "metadata": {
    "collapsed": true
   },
   "outputs": [],
   "source": [
    "# еще фичи. разницы температур между этапами.\n",
    "# разница температур между R2 и R1\n",
    "sensors['temp_d_1'] = sensors['f_20'] - sensors['f_30']\n",
    "\n",
    "# разница температур между R3 и R2\n",
    "sensors['temp_d_2'] = sensors['f_31'] - sensors['f_20']\n",
    "\n",
    "# разница температур между R4 и R3\n",
    "sensors['temp_d_3'] = sensors['f_28'] - sensors['f_31']\n",
    "\n",
    "# разница средних температур между печами H3 и Н2\n",
    "sensors['temp_d_owen_1'] = sensors['f_25'] - sensors['f_21']\n",
    "\n",
    "# разница средних температур между печами H4 и Н3\n",
    "sensors['temp_d_owen_2'] = sensors['f_29'] - sensors['f_25']\n",
    "\n",
    "# разница температур на выходе из печи H2 и входе в реактор R2\n",
    "sensors['owen_to_reactor1'] = sensors['f_20'] - sensors['f_21']\n",
    "\n",
    "# разница температур на выходе из печи H3 и входе в реактор R3\n",
    "sensors['owen_to_reactor2'] = sensors['f_25'] - sensors['f_31']\n",
    "\n",
    "# разница температур на выходе из печи H4 и входе в реактор R4\n",
    "sensors['owen_to_reactor3'] = sensors['f_29'] - sensors['f_28']"
   ]
  },
  {
   "cell_type": "code",
   "execution_count": 17,
   "metadata": {
    "collapsed": true
   },
   "outputs": [],
   "source": [
    "# фичи из библиотеки tsfresh https://github.com/blue-yonder/tsfresh\n",
    "# взял просто функции из кода библиотеки, чуточку подправил фичу с линрегом\n",
    "def abs_energy(x):\n",
    "    \"\"\"\n",
    "    Returns the absolute energy of the time series which is the sum over the squared values\n",
    "    .. math::\n",
    "        E = \\\\sum_{i=1,\\ldots, n} x_i^2\n",
    "    :param x: the time series to calculate the feature of\n",
    "    :type x: pandas.Series\n",
    "    :return: the value of this feature\n",
    "    :return type: float\n",
    "    \"\"\"\n",
    "    if not isinstance(x, (np.ndarray, pd.Series)):\n",
    "        x = np.asarray(x)\n",
    "    return np.dot(x, x)\n",
    "\n",
    "\n",
    "def mean_abs_change(x):\n",
    "    \"\"\"\n",
    "    Returns the mean over the absolute differences between subsequent time series values which is\n",
    "    .. math::\n",
    "        \\\\frac{1}{n} \\\\sum_{i=1,\\ldots, n-1} | x_{i+1} - x_{i}|\n",
    "    :param x: the time series to calculate the feature of\n",
    "    :type x: pandas.Series\n",
    "    :return: the value of this feature\n",
    "    :return type: float\n",
    "    \"\"\"\n",
    "    return np.mean(np.abs(np.diff(x)))\n",
    "\n",
    "\n",
    "def skewness(x):\n",
    "    \"\"\"\n",
    "    Returns the sample skewness of x (calculated with the adjusted Fisher-Pearson standardized\n",
    "    moment coefficient G1).\n",
    "    :param x: the time series to calculate the feature of\n",
    "    :type x: pandas.Series\n",
    "    :return: the value of this feature\n",
    "    :return type: float\n",
    "    \"\"\"\n",
    "    if not isinstance(x, pd.Series):\n",
    "        x = pd.Series(x)\n",
    "    return pd.Series.skew(x)\n",
    "\n",
    "\n",
    "def kurtosis(x):\n",
    "    \"\"\"\n",
    "    Returns the kurtosis of x (calculated with the adjusted Fisher-Pearson standardized\n",
    "    moment coefficient G2).\n",
    "    :param x: the time series to calculate the feature of\n",
    "    :type x: pandas.Series\n",
    "    :return: the value of this feature\n",
    "    :return type: float\n",
    "    \"\"\"\n",
    "    if not isinstance(x, pd.Series):\n",
    "        x = pd.Series(x)\n",
    "    return pd.Series.kurtosis(x)\n",
    "\n",
    "\n",
    "def linear_trend(x, param='slope'):\n",
    "    \"\"\"\n",
    "    Calculate a linear least-squares regression for the values of the time series versus the sequence from 0 to\n",
    "    length of the time series minus one.\n",
    "    This feature assumes the signal to be uniformly sampled. It will not use the time stamps to fit the model.\n",
    "    The parameters control which of the characteristics are returned.\n",
    "    Possible extracted attributes are \"pvalue\", \"rvalue\", \"intercept\", \"slope\", \"stderr\", see the documentation of\n",
    "    linregress for more information.\n",
    "    :param x: the time series to calculate the feature of\n",
    "    :type x: pandas.Series\n",
    "    :param param: contains dictionaries {\"attr\": x} with x an string, the attribute name of the regression model\n",
    "    :type param: list\n",
    "    :return: the different feature values\n",
    "    :return type: pandas.Series\n",
    "    \"\"\"\n",
    "    # todo: we could use the index of the DataFrame here\n",
    "\n",
    "    linReg = linregress(range(len(x)), x)\n",
    "    return linReg[0]\n",
    "    #return [(\"attr_\\\"{}\\\"\".format(config[\"attr\"]), getattr(linReg, config[\"attr\"]))\n",
    "    #        for config in param]"
   ]
  },
  {
   "cell_type": "code",
   "execution_count": 18,
   "metadata": {
    "collapsed": true
   },
   "outputs": [],
   "source": [
    "# функция для получения номера недели месяца\n",
    "from math import ceil\n",
    "\n",
    "def week_of_month(dt):\n",
    "    \"\"\" \n",
    "    Returns the week of the month for the specified date.\n",
    "    \"\"\"\n",
    "    first_day = dt.replace(day=1)\n",
    "    dom = dt.day\n",
    "    adjusted_dom = dom + first_day.weekday()\n",
    "\n",
    "    return int(ceil(adjusted_dom/7.0))"
   ]
  },
  {
   "cell_type": "code",
   "execution_count": 20,
   "metadata": {
    "collapsed": true
   },
   "outputs": [],
   "source": [
    "sensors['timestamp'] = pd.to_datetime(sensors['timestamp'])"
   ]
  },
  {
   "cell_type": "code",
   "execution_count": 21,
   "metadata": {
    "collapsed": true
   },
   "outputs": [],
   "source": [
    "sensors['day'] = sensors['timestamp'].dt.day"
   ]
  },
  {
   "cell_type": "code",
   "execution_count": 22,
   "metadata": {
    "collapsed": true
   },
   "outputs": [],
   "source": [
    "sensors['month'] = sensors['timestamp'].dt.month"
   ]
  },
  {
   "cell_type": "code",
   "execution_count": 23,
   "metadata": {},
   "outputs": [
    {
     "name": "stdout",
     "output_type": "stream",
     "text": [
      "Wall time: 15min 24s\n"
     ]
    }
   ],
   "source": [
    "# генерим кучу фичей\n",
    "# фичи отбирались руками\n",
    "# путем удаления-добавления групп фичей(либо по применяемой функции либо по размеру окна)\n",
    "for col in sensors.columns:\n",
    "    if col not in  ['timestamp', 'day', 'month', 'week_of_month']:\n",
    "        # todo inner loop\n",
    "        # относительные разности текущих значений с различными лагами\n",
    "        sensors[str(col) + '_lag1'] = (sensors[col] - sensors[col].shift(1)) / sensors[col]\n",
    "        sensors[str(col) + '_lag3'] = (sensors[col] - sensors[col].shift(3)) / sensors[col]\n",
    "        sensors[str(col) + '_lag6'] = (sensors[col] - sensors[col].shift(6)) / sensors[col]\n",
    "        sensors[str(col) + '_lag12'] = (sensors[col] - sensors[col].shift(12)) / sensors[col]\n",
    "        sensors[str(col) + '_lag24'] = (sensors[col] - sensors[col].shift(24)) / sensors[col]\n",
    "        \n",
    "        # относительная разность текущего значения с средним по окну за предыдущий период\n",
    "        sensors[str(col)+'_rolling6_diff'] = (sensors[col] - pd.rolling_mean(sensors[col], window=6, min_periods=1))/\\\n",
    "                                                pd.rolling_mean(sensors[col], window=6, min_periods=1)\n",
    "        sensors[str(col)+'_rolling3_diff'] = (sensors[col] - pd.rolling_mean(sensors[col], window=3, min_periods=1))/\\\n",
    "                                                pd.rolling_mean(sensors[col], window=3, min_periods=1)\n",
    "        sensors[str(col)+'_rolling12_diff'] = (sensors[col] - pd.rolling_mean(sensors[col], window=12, min_periods=1))/\\\n",
    "                                                pd.rolling_mean(sensors[col], window=12, min_periods=1)\n",
    "        sensors[str(col)+'_rolling24_diff'] = (sensors[col] - pd.rolling_mean(sensors[col], window=24, min_periods=1))/\\\n",
    "                                                pd.rolling_mean(sensors[col], window=24, min_periods=1)\n",
    "\n",
    "        # скользящее отклонение\n",
    "        sensors[str(col)+'_rolling6_std'] = pd.rolling_std(sensors[col], window=6, min_periods=1)\n",
    "        sensors[str(col)+'_rolling3_std'] = pd.rolling_std(sensors[col], window=3, min_periods=1)\n",
    "        sensors[str(col)+'_rolling12_std'] = pd.rolling_std(sensors[col], window=12, min_periods=1)\n",
    "        sensors[str(col)+'_rolling24_std'] = pd.rolling_std(sensors[col], window=24, min_periods=1)\n",
    "\n",
    "        # окном применяем по сути minmax скейлинг, чтобы понять где находится текущее значение относительно предыдущего периода\n",
    "        sensors[str(col)+'_rolling24_range_scale'] = (sensors[col] - pd.rolling_min(sensors[col], window=24, min_periods=1))/\\\n",
    "        (pd.rolling_max(sensors[col], window=24, min_periods=1) - pd.rolling_min(sensors[col], window=24, min_periods=1))\n",
    "        \n",
    "        sensors[str(col)+'_rolling12_range_scale'] = (sensors[col] - pd.rolling_min(sensors[col], window=12, min_periods=1))/\\\n",
    "        (pd.rolling_max(sensors[col], window=12, min_periods=1) - pd.rolling_min(sensors[col], window=12, min_periods=1))\n",
    "        \n",
    "        sensors[str(col)+'_rolling6_range_scale'] = (sensors[col] - pd.rolling_min(sensors[col], window=6, min_periods=1))/\\\n",
    "        (pd.rolling_max(sensors[col], window=6, min_periods=1) - pd.rolling_min(sensors[col], window=6, min_periods=1))\n",
    "        \n",
    "        # окном применяем tsfresh фичи\n",
    "        # \"энергия сигнала\" - скалярное произведение сигнала саомго на себя\n",
    "        # коэффициент линейной регрессии по окну (куда движется сигнал) - тренд\n",
    "        # средний модуль изменений внутри окна (насколько сильно скачет сигнал в среднем в окне)\n",
    "        sensors[str(col)+'_rolling24_energy'] = pd.rolling_apply(sensors[col], window=24, func=abs_energy, min_periods=1)\n",
    "        sensors[str(col)+'_rolling24_abschange'] = pd.rolling_apply(sensors[col], window=24, func=mean_abs_change, min_periods=1)\n",
    "        sensors[str(col)+'_rolling24_linear_trend'] = pd.rolling_apply(sensors[col], window=24, func=linear_trend, min_periods=1)\n",
    "        sensors[str(col)+'_rolling48_energy'] = pd.rolling_apply(sensors[col], window=48, func=abs_energy, min_periods=1)\n",
    "        sensors[str(col)+'_rolling12_energy'] = pd.rolling_apply(sensors[col], window=12, func=abs_energy, min_periods=1)\n"
   ]
  },
  {
   "cell_type": "code",
   "execution_count": 24,
   "metadata": {
    "collapsed": true
   },
   "outputs": [],
   "source": [
    "# бьем на трейн/тест\n",
    "train = sensors.iloc[:target_coke.shape[0],:]\n",
    "test = sensors.iloc[target_coke.shape[0]:,:]"
   ]
  },
  {
   "cell_type": "code",
   "execution_count": 25,
   "metadata": {
    "collapsed": true
   },
   "outputs": [],
   "source": [
    "y = target_coke['target']"
   ]
  },
  {
   "cell_type": "code",
   "execution_count": 26,
   "metadata": {
    "collapsed": true
   },
   "outputs": [],
   "source": [
    "# удаляем таймстепм\n",
    "train.drop('timestamp', axis=1, inplace=True)\n",
    "test.drop('timestamp', axis=1, inplace=True)"
   ]
  },
  {
   "cell_type": "code",
   "execution_count": 27,
   "metadata": {},
   "outputs": [
    {
     "name": "stdout",
     "output_type": "stream",
     "text": [
      "predicted: 0\n",
      "predicted: 1\n",
      "predicted: 2\n",
      "predicted: 3\n",
      "predicted: 4\n",
      "predicted: 5\n",
      "predicted: 6\n",
      "predicted: 7\n",
      "predicted: 8\n",
      "predicted: 9\n",
      "predicted: 10\n",
      "predicted: 11\n",
      "predicted: 12\n",
      "predicted: 13\n",
      "predicted: 14\n"
     ]
    }
   ],
   "source": [
    "# обучаем 15 лгбм'ов с разными сидами, сохраняем результат для дальнейшего бленда\n",
    "# фичей много, поэтому модель сильно регуляризуем:\n",
    "# уменьшаем число листьев, коэф. регуляризации побольше, саб и колсемплы поменьше.\n",
    "# эти параметры просто подобрал руками в пару итераций, оказались достаточно хороши чтобы их и оставить\n",
    "np.random.seed(1337)\n",
    "predictions = pd.DataFrame()\n",
    "for i in range(15):\n",
    "    lgbm_model=lgb.LGBMRegressor(\n",
    "                                  boosting_type= 'gbdt',\n",
    "                                  objective='regression',\n",
    "                                  colsample_bytree= 0.5,\n",
    "                                  learning_rate= 0.01,\n",
    "                                  n_estimators= 2000,\n",
    "                                  num_leaves= 16,\n",
    "                                  metric= 'rmse',\n",
    "                                  subsample= 0.5,\n",
    "                                  reg_lambda=10,\n",
    "                                  seed= np.random.randint(1,500)\n",
    "                                )\n",
    "    lgbm_model.fit(train, y)\n",
    "    prediction = lgbm_model.predict(test)\n",
    "    predictions[str(i) + '_pred'] = prediction\n",
    "    #print('predicted: ' + str(i))"
   ]
  },
  {
   "cell_type": "code",
   "execution_count": 28,
   "metadata": {
    "collapsed": true
   },
   "outputs": [],
   "source": [
    "predictions.to_csv('coke_blend/v6 (best public) 15lgbm.csv', index=False)"
   ]
  },
  {
   "cell_type": "code",
   "execution_count": null,
   "metadata": {
    "collapsed": true
   },
   "outputs": [],
   "source": []
  }
 ],
 "metadata": {
  "anaconda-cloud": {},
  "kernelspec": {
   "display_name": "Python 3",
   "language": "python",
   "name": "python3"
  },
  "language_info": {
   "codemirror_mode": {
    "name": "ipython",
    "version": 3
   },
   "file_extension": ".py",
   "mimetype": "text/x-python",
   "name": "python",
   "nbconvert_exporter": "python",
   "pygments_lexer": "ipython3",
   "version": "3.7.0"
  }
 },
 "nbformat": 4,
 "nbformat_minor": 2
}
